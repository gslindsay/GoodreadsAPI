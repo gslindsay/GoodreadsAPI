{
 "cells": [
  {
   "cell_type": "markdown",
   "metadata": {},
   "source": [
    "# Access GoodReads API using the `Goodreads` package"
   ]
  },
  {
   "cell_type": "markdown",
   "metadata": {},
   "source": [
    "To access the GoodReads API, you first need a developer Key, which you can get by creating a GoodReads account on https://www.goodreads.com/api.\n",
    "\n",
    "Then, install the [Goodreads package](https://github.com/pirmoradian/goodreads), which provides a Python interface for the GoodReads API. The readme file Readme.rst provides a clear instruction on how to install the package. It is very easy to set it up."
   ]
  },
  {
   "cell_type": "markdown",
   "metadata": {},
   "source": [
    "The first time you execute the notebook, add all credentials so that you can save them in the pkl file, then you can remove the secret keys from the notebook because they will just be loaded from the pkl file.\n",
    "The pkl file contains sensitive information that can be used to take control of your twitter acccount, do not share it."
   ]
  },
  {
   "cell_type": "code",
   "execution_count": 2,
   "metadata": {
    "collapsed": true
   },
   "outputs": [],
   "source": [
    "import pickle\n",
    "import os\n",
    "from goodreads import client\n",
    "import re\n",
    "import matplotlib.pyplot as plt\n",
    "import requests\n",
    "import xmltodict\n",
    "%matplotlib inline"
   ]
  },
  {
   "cell_type": "code",
   "execution_count": 3,
   "metadata": {
    "collapsed": true
   },
   "outputs": [],
   "source": [
    "devkey_fn = 'secret_goodreads_credentials.pkl'\n",
    "if not os.path.exists(devkey_fn):\n",
    "    Goodreads = {}\n",
    "    Goodreads['key'] = '', # Your developer Key\n",
    "    Goodreads['secret'] =''  # Your developer secret         \n",
    "    \n",
    "    with open(devkey_fn, 'wb') as f:\n",
    "        pickle.dump(Goodreads, f)\n",
    "else:\n",
    "    Goodreads = pickle.load(open(devkey_fn, 'rb'));"
   ]
  },
  {
   "cell_type": "markdown",
   "metadata": {},
   "source": [
    "## Authorizing an application to access GoodReads data"
   ]
  },
  {
   "cell_type": "markdown",
   "metadata": {},
   "source": [
    "Create a client instance to query Goodreads:"
   ]
  },
  {
   "cell_type": "code",
   "execution_count": 4,
   "metadata": {},
   "outputs": [],
   "source": [
    "gc = client.GoodreadsClient(Goodreads['key'], Goodreads['secret'])"
   ]
  },
  {
   "cell_type": "markdown",
   "metadata": {},
   "source": [
    "If you develop an app, where your customers write on Goodreads, you require OAuth for authorization. To get started, you first need to register your app.\n",
    "\n",
    "OAuth is a simple way to allow third-party applications access to your data securly. It's based on existing standards and doesn't require you to give third-parties your username and password.\n",
    "\n",
    "Unfortunately, calling this function raises an error, which has already been discussed [here](https://www.goodreads.com/topic/show/18844702-python-code-in-documentation-not-working). Because we cannot authorize this connection through OAuth, I could not run some functions related to reviews. Instead, I made a direct connection using the `Requests` library and `xmltodict` for getting those information later in this notebook."
   ]
  },
  {
   "cell_type": "code",
   "execution_count": 4,
   "metadata": {
    "collapsed": true
   },
   "outputs": [],
   "source": [
    "# gc.authenticate() #<access_token>, <access_token_secret>)"
   ]
  },
  {
   "cell_type": "markdown",
   "metadata": {},
   "source": [
    "## Retrieve data about a book"
   ]
  },
  {
   "cell_type": "markdown",
   "metadata": {},
   "source": [
    "Get info about a book using book id or isbn."
   ]
  },
  {
   "cell_type": "code",
   "execution_count": 72,
   "metadata": {
    "collapsed": true
   },
   "outputs": [],
   "source": [
    "book = gc.book(1)"
   ]
  },
  {
   "cell_type": "markdown",
   "metadata": {},
   "source": [
    "Once you have the `GoodreadsBook` instance for the book, you can access data for the queried book."
   ]
  },
  {
   "cell_type": "code",
   "execution_count": 73,
   "metadata": {},
   "outputs": [
    {
     "data": {
      "text/plain": [
       "u'Harry Potter and the Half-Blood Prince (Harry Potter, #6)'"
      ]
     },
     "execution_count": 73,
     "metadata": {},
     "output_type": "execute_result"
    }
   ],
   "source": [
    "book.title"
   ]
  },
  {
   "cell_type": "code",
   "execution_count": 7,
   "metadata": {},
   "outputs": [
    {
     "data": {
      "text/plain": [
       "u'0439785960'"
      ]
     },
     "execution_count": 7,
     "metadata": {},
     "output_type": "execute_result"
    }
   ],
   "source": [
    "book.isbn"
   ]
  },
  {
   "cell_type": "markdown",
   "metadata": {},
   "source": [
    "Get info using isbn:"
   ]
  },
  {
   "cell_type": "code",
   "execution_count": 8,
   "metadata": {},
   "outputs": [
    {
     "data": {
      "text/plain": [
       "Harry Potter and the Half-Blood Prince (Harry Potter, #6)"
      ]
     },
     "execution_count": 8,
     "metadata": {},
     "output_type": "execute_result"
    }
   ],
   "source": [
    "myisbn = '0439785960'\n",
    "gc.book(isbn=myisbn)"
   ]
  },
  {
   "cell_type": "code",
   "execution_count": 9,
   "metadata": {},
   "outputs": [
    {
     "data": {
      "text/plain": [
       "u'4.55'"
      ]
     },
     "execution_count": 9,
     "metadata": {},
     "output_type": "execute_result"
    }
   ],
   "source": [
    "book.average_rating"
   ]
  },
  {
   "cell_type": "code",
   "execution_count": 10,
   "metadata": {},
   "outputs": [
    {
     "data": {
      "text/plain": [
       "u'When Harry Potter and the Half-Blood Prince opens, the war against Voldemort has begun. The Wizarding world has split down the middle, and as the casualties mount, the effects even spill over onto the'"
      ]
     },
     "execution_count": 10,
     "metadata": {},
     "output_type": "execute_result"
    }
   ],
   "source": [
    "book.description[:200]"
   ]
  },
  {
   "cell_type": "code",
   "execution_count": 11,
   "metadata": {},
   "outputs": [
    {
     "name": "stdout",
     "output_type": "stream",
     "text": [
      "5:1262418|4:485112|3:142576|2:22364|1:7766|total:1920236\n"
     ]
    }
   ],
   "source": [
    "rating_dist_str = book.rating_dist\n",
    "print rating_dist_str"
   ]
  },
  {
   "cell_type": "code",
   "execution_count": 12,
   "metadata": {},
   "outputs": [
    {
     "name": "stdout",
     "output_type": "stream",
     "text": [
      "1262418|485112|142576|22364|7766|total:1920236\n"
     ]
    }
   ],
   "source": [
    "rating_dist_str = re.sub(r'\\d:', '', rating_dist_str)\n",
    "print rating_dist_str"
   ]
  },
  {
   "cell_type": "code",
   "execution_count": 13,
   "metadata": {},
   "outputs": [
    {
     "name": "stdout",
     "output_type": "stream",
     "text": [
      "[1262418, 485112, 142576, 22364, 7766]\n"
     ]
    }
   ],
   "source": [
    "rating_dist = map(int, rating_dist_str.split('|')[:-1])\n",
    "print rating_dist"
   ]
  },
  {
   "cell_type": "code",
   "execution_count": 14,
   "metadata": {},
   "outputs": [
    {
     "data": {
      "text/plain": [
       "<matplotlib.text.Text at 0x10a587050>"
      ]
     },
     "execution_count": 14,
     "metadata": {},
     "output_type": "execute_result"
    },
    {
     "data": {
      "image/png": "[encoded data removed]",
      "text/plain": [
       "<matplotlib.figure.Figure at 0x10a620890>"
      ]
     },
     "metadata": {},
     "output_type": "display_data"
    }
   ],
   "source": [
    "plt.bar(range(5, 0, -1), rating_dist)\n",
    "plt.title(book.title)\n",
    "plt.ylabel('Frequency')\n",
    "plt.xlabel('Rating')"
   ]
  },
  {
   "cell_type": "code",
   "execution_count": 15,
   "metadata": {},
   "outputs": [
    {
     "name": "stdout",
     "output_type": "stream",
     "text": [
      "[to-read, fantasy, favorites, currently-reading, young-adult, fiction, harry-potter, books-i-own, owned, ya, series, favourites, magic, childrens, owned-books, re-read, adventure, children, j-k-rowling, children-s, sci-fi-fantasy, all-time-favorites, childhood, my-books, default, classics, audiobook, reread, 5-stars, audiobooks, i-own, favorite-books, children-s-books, middle-grade, novels, fantasy-sci-fi, kids, favorite, my-library, paranormal, read-more-than-once, ya-fantasy, teen, english, urban-fantasy, british, witches, jk-rowling, books, audio, re-reads, ya-fiction, read-in-2016, mystery, library, supernatural, my-favorites, read-in-2017, novel, childrens-books, harry-potter-series, own-it, faves, young-adult-fiction, 2005, scifi-fantasy, wizards, kindle, made-me-cry, favorite-series, juvenile, read-in-2015, romance, youth, shelfari-favorites, to-buy, all-time-favourites, my-bookshelf, bookshelf, childhood-favorites, favourite, 5-star, ebook, kids-books, rereads, to-re-read, read-in-2014, favs, read-in-english, coming-of-age, contemporary, children-s-literature, on-my-shelf, favourite-books, science-fiction-fantasy, england, childhood-books, fantasy-scifi, children-s-lit, magical]\n"
     ]
    }
   ],
   "source": [
    "print book.popular_shelves"
   ]
  },
  {
   "cell_type": "code",
   "execution_count": 16,
   "metadata": {},
   "outputs": [
    {
     "data": {
      "text/plain": [
       "[Squire (Protector of the Small, #3),\n",
       " Mossflower (Redwall, #2),\n",
       " The Eternity Code (Artemis Fowl, #3),\n",
       " The Horse and His Boy (Chronicles of Narnia, #5),\n",
       " City of Masks (Stravaganza, #1),\n",
       " Rilla of Ingleside (Anne of Green Gables, #8),\n",
       " The Amber Spyglass (His Dark Materials, #3),\n",
       " The Fire Chronicle (The Books of Beginning, #2),\n",
       " The Carnivorous Carnival (A Series of Unfortunate Events, #9),\n",
       " Dangerous Angels (Weetzie Bat, #1-5),\n",
       " The Lives of Christopher Chant (Chrestomanci, #2),\n",
       " The Shamer's War (The Shamer Chronicles, #4),\n",
       " Lord of the Shadows (Cirque Du Freak, #11),\n",
       " The Forgotten (Animorphs, #11),\n",
       " The Enchanted Forest Chronicles (The Enchanted Forest Chronicles, #1-4),\n",
       " The Edge Chronicles 6: Midnight Over Sanctaphrax: Third Book of Twig]"
      ]
     },
     "execution_count": 16,
     "metadata": {},
     "output_type": "execute_result"
    }
   ],
   "source": [
    "book.similar_books"
   ]
  },
  {
   "cell_type": "code",
   "execution_count": 17,
   "metadata": {},
   "outputs": [
    {
     "data": {
      "text/plain": [
       "u'23944'"
      ]
     },
     "execution_count": 17,
     "metadata": {},
     "output_type": "execute_result"
    }
   ],
   "source": [
    "book.text_reviews_count"
   ]
  },
  {
   "cell_type": "markdown",
   "metadata": {},
   "source": [
    "Embed Goodreads book reviews on your site with an iframe. If you "
   ]
  },
  {
   "cell_type": "code",
   "execution_count": 18,
   "metadata": {},
   "outputs": [
    {
     "data": {
      "text/plain": [
       "u'<style>\\n  #goodreads-widget {\\n    font-family: georgia, serif;\\n    padding: 18px 0;\\n    width:565px;\\n  }\\n  #goodreads-widget h1 {\\n    font-weight:normal;\\n    font-size: 16px;\\n    border-bottom: 1px solid #BBB596;\\n    margin-bottom: 0;\\n  }\\n  #goodreads-widget a {\\n    text-decoration: none;\\n    color:#660;\\n  }\\n  iframe{\\n    background-color: #fff;\\n  }\\n  #goodreads-widget a:hover { text-decoration: underline; }\\n  #goodreads-widget a:active {\\n    color:#660;\\n  }\\n  #gr_footer {\\n    width: 100%;\\n    border-top: 1px solid #BBB596;\\n    text-align: right;\\n  }\\n  #goodreads-widget .gr_branding{\\n    color: #382110;\\n    font-size: 11px;\\n    text-decoration: none;\\n    font-family: \"Helvetica Neue\", Helvetica, Arial, sans-serif;\\n  }\\n</style>\\n<div id=\"goodreads-widget\">\\n  <div id=\"gr_header\"><h1><a rel=\"nofollow\" href=\"https://www.goodreads.com/book/show/1.Harry_Potter_and_the_Half_Blood_Prince\">Harry Potter and the Half-Blood Prince Reviews</a></h1></div>\\n  <iframe id=\"the_iframe\" src=\"https://www.goodreads.com/api/reviews_widget_iframe?did=DEVELOPER_ID&amp;format=html&amp;isbn=0439785960&amp;links=660&amp;min_rating=&amp;review_back=fff&amp;stars=000&amp;text=000\" width=\"565\" height=\"400\" frameborder=\"0\"></iframe>\\n  <div id=\"gr_footer\">\\n    <a class=\"gr_branding\" target=\"_blank\" rel=\"nofollow\" href=\"https://www.goodreads.com/book/show/1.Harry_Potter_and_the_Half_Blood_Prince?utm_medium=api&amp;utm_source=reviews_widget\">Reviews from Goodreads.com</a>\\n  </div>\\n</div>'"
      ]
     },
     "execution_count": 18,
     "metadata": {},
     "output_type": "execute_result"
    }
   ],
   "source": [
    "r_widget= book.reviews_widget\n",
    "r_widget"
   ]
  },
  {
   "cell_type": "markdown",
   "metadata": {},
   "source": [
    "If you look at the `src` link, you will see a sample of reviews:"
   ]
  },
  {
   "cell_type": "code",
   "execution_count": 19,
   "metadata": {},
   "outputs": [
    {
     "data": {
      "text/plain": [
       "u'https://www.goodreads.com/api/reviews_widget_iframe?did=DEVELOPER_ID&amp;format=html&amp;isbn=0439785960&amp;links=660&amp;min_rating=&amp;review_back=fff&amp;stars=000&amp;text=000'"
      ]
     },
     "execution_count": 19,
     "metadata": {},
     "output_type": "execute_result"
    }
   ],
   "source": [
    "p = re.compile('src=\"(.*)\" width')\n",
    "p.findall(r_widget)[0]"
   ]
  },
  {
   "cell_type": "markdown",
   "metadata": {},
   "source": [
    "### Search books for a given query"
   ]
  },
  {
   "cell_type": "markdown",
   "metadata": {},
   "source": [
    "Get the most popular books for the given query. This will search all\n",
    "        books in the title/author/ISBN fields and show matches, sorted by\n",
    "        popularity on Goodreads."
   ]
  },
  {
   "cell_type": "code",
   "execution_count": 20,
   "metadata": {
    "collapsed": true
   },
   "outputs": [],
   "source": [
    "books = gc.search_books('harry potter')"
   ]
  },
  {
   "cell_type": "code",
   "execution_count": 21,
   "metadata": {
    "collapsed": true
   },
   "outputs": [],
   "source": [
    "def prettyprint_book(books):\n",
    "    row_template = \"{:^7} | {:^20} | {:^10} | {:50}\"\n",
    "    print(row_template.format('BookID', 'Author', 'Avg Rating', 'Title'))\n",
    "    print(\"*\"*60)\n",
    "\n",
    "    for book in books:\n",
    "        auth = book.authors[0]\n",
    "        print(row_template.format(book.gid, auth.name, book.average_rating, book.title[:50]))"
   ]
  },
  {
   "cell_type": "code",
   "execution_count": 22,
   "metadata": {},
   "outputs": [
    {
     "name": "stdout",
     "output_type": "stream",
     "text": [
      "BookID  |        Author        | Avg Rating | Title                                             \n",
      "************************************************************\n",
      "   3    |     J.K. Rowling     |    4.45    | Harry Potter and the Sorcerer's Stone (Harry Potte\n",
      "   5    |     J.K. Rowling     |    4.54    | Harry Potter and the Prisoner of Azkaban (Harry Po\n",
      " 15881  |     J.K. Rowling     |    4.39    | Harry Potter and the Chamber of Secrets (Harry Pot\n",
      "136251  |     J.K. Rowling     |    4.62    | Harry Potter and the Deathly Hallows (Harry Potter\n",
      "   6    |     J.K. Rowling     |    4.54    | Harry Potter and the Goblet of Fire (Harry Potter,\n",
      "   2    |     J.K. Rowling     |    4.47    | Harry Potter and the Order of the Phoenix (Harry P\n",
      "   1    |     J.K. Rowling     |    4.55    | Harry Potter and the Half-Blood Prince (Harry Pott\n",
      "862041  |     J.K. Rowling     |    4.74    | Harry Potter Boxset (Harry Potter, #1-7)          \n",
      "29056083 |     John Tiffany     |    3.71    | Harry Potter and the Cursed Child - Parts One and \n",
      "8933944 |     J.K. Rowling     |    4.21    | Harry Potter: The Prequel (Harry Potter, #0.5)    \n",
      "  10    |     J.K. Rowling     |    4.73    | Harry Potter Collection (Harry Potter, #1-6)      \n",
      "7952502 |     Brian Sibley     |    4.49    | Harry Potter: Film Wizardry                       \n",
      " 99298  |     J.K. Rowling     |    4.66    | The Harry Potter Collection 1-4 (Harry Potter, #1-\n",
      "10016013 |  Eliezer Yudkowsky   |    4.39    | Harry Potter and the Methods of Rationality       \n",
      "2337379 |     J.K. Rowling     |    4.65    | The Harry Potter trilogy (Harry Potter, #1-3)     \n",
      "35613533 |   British Library    |    4.23    | Harry Potter: A History of Magic                  \n",
      "1317181 |     J.K. Rowling     |    4.57    | Harry Potter and the Order of the Phoenix (Harry P\n",
      "389547  |    David Langford    |    4.37    | The End of Harry Potter?                          \n"
     ]
    }
   ],
   "source": [
    "prettyprint_book(books)"
   ]
  },
  {
   "cell_type": "code",
   "execution_count": 40,
   "metadata": {},
   "outputs": [
    {
     "data": {
      "text/plain": [
       "Harry Potter and the Order of the Phoenix (Harry Potter, #5, Part 1)"
      ]
     },
     "execution_count": 40,
     "metadata": {},
     "output_type": "execute_result"
    }
   ],
   "source": [
    "gc.book(1317181)"
   ]
  },
  {
   "cell_type": "code",
   "execution_count": 41,
   "metadata": {},
   "outputs": [
    {
     "data": {
      "text/plain": [
       "Harry Potter and the Order of the Phoenix (Harry Potter, #5)"
      ]
     },
     "execution_count": 41,
     "metadata": {},
     "output_type": "execute_result"
    }
   ],
   "source": [
    "gc.book(2)"
   ]
  },
  {
   "cell_type": "code",
   "execution_count": 23,
   "metadata": {},
   "outputs": [
    {
     "name": "stdout",
     "output_type": "stream",
     "text": [
      "BookID  |        Author        | Avg Rating | Title                                             \n",
      "************************************************************\n",
      " 1885   |     Jane Austen      |    4.25    | Pride and Prejudice                               \n",
      " 2152   |   Karen Joy Fowler   |    3.07    | The Jane Austen Book Club                         \n",
      " 14935  |     Jane Austen      |    4.06    | Sense and Sensibility                             \n",
      " 6969   |     Jane Austen      |    3.99    | Emma                                              \n",
      "548739  | Laurie Viera Rigler  |    3.18    | Confessions of a Jane Austen Addict (Jane Austen A\n",
      " 2156   |     Jane Austen      |    4.13    | Persuasion                                        \n",
      " 50376  |    Claire Tomalin    |    3.99    | Jane Austen: A Life                               \n",
      " 50398  |     Jane Austen      |    3.80    | Northanger Abbey                                  \n",
      "34018949 |     Lucy Worsley     |    4.29    | Jane Austen at Home                               \n",
      " 45032  |     Jane Austen      |    3.85    | Mansfield Park                                    \n",
      "32930819 |  Kathleen A. Flynn   |    3.70    | The Jane Austen Project                           \n",
      "1759481 |     Syrie James      |    3.76    | The Lost Memoirs of Jane Austen                   \n",
      "7756378 |     Jane Austen      |    4.63    | Jane Austen: The Complete Collection              \n",
      "5516525 | Laurie Viera Rigler  |    3.47    | Rude Awakenings of a Jane Austen Addict (Jane Aust\n",
      "636674  |      Jon Spence      |    3.73    | Becoming Jane Austen                              \n",
      " 2155   |     Jane Austen      |    4.15    | Jane Austen's Letters                             \n",
      "2600408 |     Jane Austen      |    4.50    | Jane Austen: Seven Novels                         \n",
      " 99297  |    Amanda Grange     |    3.63    | Mr. Darcy's Diary (Jane Austen Heroes, #1)        \n",
      "16158557 |    Roy A. Adkins     |    3.74    | Jane Austen's England                             \n",
      "5928721 |    Beth Pattillo     |    3.35    | Jane Austen Ruined My Life                        \n"
     ]
    }
   ],
   "source": [
    "books = gc.search_books('Jane Austen')\n",
    "prettyprint_book(books)"
   ]
  },
  {
   "cell_type": "markdown",
   "metadata": {},
   "source": [
    "## Retrieve data about an author"
   ]
  },
  {
   "cell_type": "markdown",
   "metadata": {},
   "source": [
    "Retrieve an author data using an id by calling `author()` or using a name by calling `find_author()`."
   ]
  },
  {
   "cell_type": "code",
   "execution_count": 24,
   "metadata": {
    "collapsed": true
   },
   "outputs": [],
   "source": [
    "author = gc.author(10)"
   ]
  },
  {
   "cell_type": "code",
   "execution_count": 25,
   "metadata": {},
   "outputs": [
    {
     "data": {
      "text/plain": [
       "u'Jude Fisher'"
      ]
     },
     "execution_count": 25,
     "metadata": {},
     "output_type": "execute_result"
    }
   ],
   "source": [
    "author.name"
   ]
  },
  {
   "cell_type": "code",
   "execution_count": 26,
   "metadata": {},
   "outputs": [
    {
     "data": {
      "text/plain": [
       "u'Jude Fisher is the pseudonym for <a href=\"https://www.goodreads.com/author/show/3842.Jane_Johnson\" title=\"Jane Johnson\" rel=\"nofollow\">Jane Johnson</a>, who is the Publisher of HarperCollins\\' science fiction and fantasy list, Voyager. She has also been involved in the publishing of JRR Tolkien\\'s works for many years. As Gabriel King she has written four novels, with co-author M. John Harrison: THE WILD ROAD, THE GOLDEN CAT, THE KNOT GARDEN and NONESUCH. She is also the author of the official VISUAL COMPANIONS to Peter Jackson\\'s movie trilogy of THE LORD OF THE RINGS. SORCERY RISING is her first solo novel. It will be followed by WILD MAGIC and THE WARS OF SORCERY.<br /><br />'"
      ]
     },
     "execution_count": 26,
     "metadata": {},
     "output_type": "execute_result"
    }
   ],
   "source": [
    "author.about"
   ]
  },
  {
   "cell_type": "code",
   "execution_count": 27,
   "metadata": {},
   "outputs": [
    {
     "data": {
      "text/plain": [
       "[The Lord of the Rings: The Return of the King: Visual Companion,\n",
       " The Lord of the Rings: The Fellowship of the Ring: Visual Companion,\n",
       " The Lord of the Rings: The Two Towers: Visual Companion,\n",
       " The Hobbit: An Unexpected Journey - Visual Companion,\n",
       " The Hobbit: The Desolation of Smaug - Visual Companion,\n",
       " Sorcery Rising (Fool's Gold, #1),\n",
       " Wild Magic (Fool's Gold, #2),\n",
       " The Rose of the World (Fool's Gold, #3),\n",
       " The Lord of the Rings: Complete Visual Companion,\n",
       " The Hobbit: The Battle of the Five Armies - Visual Companion]"
      ]
     },
     "execution_count": 27,
     "metadata": {},
     "output_type": "execute_result"
    }
   ],
   "source": [
    "author.books"
   ]
  },
  {
   "cell_type": "code",
   "execution_count": 28,
   "metadata": {
    "collapsed": true
   },
   "outputs": [],
   "source": [
    "author.born_at"
   ]
  },
  {
   "cell_type": "code",
   "execution_count": 29,
   "metadata": {},
   "outputs": [
    {
     "data": {
      "text/plain": [
       "<bound method GoodreadsAuthor.fans_count of Jude Fisher>"
      ]
     },
     "execution_count": 29,
     "metadata": {},
     "output_type": "execute_result"
    }
   ],
   "source": [
    "author.fans_count"
   ]
  },
  {
   "cell_type": "code",
   "execution_count": 30,
   "metadata": {},
   "outputs": [
    {
     "data": {
      "text/plain": [
       "u'female'"
      ]
     },
     "execution_count": 30,
     "metadata": {},
     "output_type": "execute_result"
    }
   ],
   "source": [
    "author.gender"
   ]
  },
  {
   "cell_type": "code",
   "execution_count": 31,
   "metadata": {},
   "outputs": [
    {
     "data": {
      "text/plain": [
       "u'10'"
      ]
     },
     "execution_count": 31,
     "metadata": {},
     "output_type": "execute_result"
    }
   ],
   "source": [
    "author.gid"
   ]
  },
  {
   "cell_type": "code",
   "execution_count": 32,
   "metadata": {},
   "outputs": [
    {
     "data": {
      "text/plain": [
       "u'10'"
      ]
     },
     "execution_count": 32,
     "metadata": {},
     "output_type": "execute_result"
    }
   ],
   "source": [
    "author.works_count"
   ]
  },
  {
   "cell_type": "code",
   "execution_count": 33,
   "metadata": {
    "collapsed": true
   },
   "outputs": [],
   "source": [
    "author.user"
   ]
  },
  {
   "cell_type": "markdown",
   "metadata": {},
   "source": [
    "Retrieve data about an author using his/her name:"
   ]
  },
  {
   "cell_type": "code",
   "execution_count": 34,
   "metadata": {
    "collapsed": true
   },
   "outputs": [],
   "source": [
    "author = gc.find_author('Jane Austen')"
   ]
  },
  {
   "cell_type": "code",
   "execution_count": 35,
   "metadata": {},
   "outputs": [
    {
     "data": {
      "text/plain": [
       "[Pride and Prejudice,\n",
       " Sense and Sensibility,\n",
       " Emma,\n",
       " Persuasion,\n",
       " Mansfield Park,\n",
       " Northanger Abbey,\n",
       " The Complete Novels,\n",
       " Lady Susan,\n",
       " Northanger Abbey, Lady Susan, The Watsons, Sanditon,\n",
       " Lady Susan, The Watsons, Sanditon]"
      ]
     },
     "execution_count": 35,
     "metadata": {},
     "output_type": "execute_result"
    }
   ],
   "source": [
    "author.books"
   ]
  },
  {
   "cell_type": "code",
   "execution_count": 36,
   "metadata": {},
   "outputs": [
    {
     "data": {
      "text/plain": [
       "u'Steventon Rectory, Hampshire, England'"
      ]
     },
     "execution_count": 36,
     "metadata": {},
     "output_type": "execute_result"
    }
   ],
   "source": [
    "author.hometown"
   ]
  },
  {
   "cell_type": "markdown",
   "metadata": {},
   "source": [
    "## Retreive data about users"
   ]
  },
  {
   "cell_type": "markdown",
   "metadata": {},
   "source": [
    "User data can be retrieved by user id or username."
   ]
  },
  {
   "cell_type": "code",
   "execution_count": 37,
   "metadata": {
    "collapsed": true
   },
   "outputs": [],
   "source": [
    "myuserid = 18180582\n",
    "user = gc.user(myuserid)"
   ]
  },
  {
   "cell_type": "code",
   "execution_count": 38,
   "metadata": {},
   "outputs": [
    {
     "data": {
      "text/plain": [
       "u'Sahar Pirmoradian'"
      ]
     },
     "execution_count": 38,
     "metadata": {},
     "output_type": "execute_result"
    }
   ],
   "source": [
    "user.name"
   ]
  },
  {
   "cell_type": "code",
   "execution_count": 39,
   "metadata": {},
   "outputs": [
    {
     "data": {
      "text/plain": [
       "u'spirmora'"
      ]
     },
     "execution_count": 39,
     "metadata": {},
     "output_type": "execute_result"
    }
   ],
   "source": [
    "user.user_name"
   ]
  },
  {
   "cell_type": "markdown",
   "metadata": {},
   "source": [
    "Retrieve the user data using username:"
   ]
  },
  {
   "cell_type": "code",
   "execution_count": 40,
   "metadata": {},
   "outputs": [
    {
     "data": {
      "text/plain": [
       "u'Sahar Pirmoradian'"
      ]
     },
     "execution_count": 40,
     "metadata": {},
     "output_type": "execute_result"
    }
   ],
   "source": [
    "user = gc.user(username='spirmora')\n",
    "user.name"
   ]
  },
  {
   "cell_type": "markdown",
   "metadata": {},
   "source": [
    "## Retrieve reviews written by a user"
   ]
  },
  {
   "cell_type": "markdown",
   "metadata": {},
   "source": [
    "Get all books and reviews on user's shelves.\n",
    "\n",
    "Calling the `reviews` function raises an error because we could not establish an `OAuth` authentication earlier. "
   ]
  },
  {
   "cell_type": "code",
   "execution_count": 41,
   "metadata": {},
   "outputs": [
    {
     "ename": "AttributeError",
     "evalue": "GoodreadsClient instance has no attribute 'session'",
     "output_type": "error",
     "traceback": [
      "\u001b[0;31m---------------------------------------------------------------------------\u001b[0m",
      "\u001b[0;31mAttributeError\u001b[0m                            Traceback (most recent call last)",
      "\u001b[0;32m<ipython-input-41-9c2321ad4c77>\u001b[0m in \u001b[0;36m<module>\u001b[0;34m()\u001b[0m\n\u001b[0;32m----> 1\u001b[0;31m \u001b[0muser\u001b[0m\u001b[0;34m.\u001b[0m\u001b[0mreviews\u001b[0m\u001b[0;34m(\u001b[0m\u001b[0mpage\u001b[0m\u001b[0;34m=\u001b[0m\u001b[0;36m1\u001b[0m\u001b[0;34m)\u001b[0m\u001b[0;34m\u001b[0m\u001b[0m\n\u001b[0m",
      "\u001b[0;32m/Users/sahar/anaconda2/lib/python2.7/site-packages/goodreads-0.3.2-py2.7.egg/goodreads/user.pyc\u001b[0m in \u001b[0;36mreviews\u001b[0;34m(self, page)\u001b[0m\n\u001b[1;32m     78\u001b[0m     \u001b[0;32mdef\u001b[0m \u001b[0mreviews\u001b[0m\u001b[0;34m(\u001b[0m\u001b[0mself\u001b[0m\u001b[0;34m,\u001b[0m \u001b[0mpage\u001b[0m\u001b[0;34m=\u001b[0m\u001b[0;36m1\u001b[0m\u001b[0;34m)\u001b[0m\u001b[0;34m:\u001b[0m\u001b[0;34m\u001b[0m\u001b[0m\n\u001b[1;32m     79\u001b[0m         \u001b[0;34m\"\"\"Get all books and reviews on user's shelves\"\"\"\u001b[0m\u001b[0;34m\u001b[0m\u001b[0m\n\u001b[0;32m---> 80\u001b[0;31m         resp = self._client.session.get(\"/review/list.xml\",\n\u001b[0m\u001b[1;32m     81\u001b[0m                                         {'v': 2, 'id': self.gid, 'page': page})\n\u001b[1;32m     82\u001b[0m         \u001b[0;32mreturn\u001b[0m \u001b[0;34m[\u001b[0m\u001b[0mreview\u001b[0m\u001b[0;34m.\u001b[0m\u001b[0mGoodreadsReview\u001b[0m\u001b[0;34m(\u001b[0m\u001b[0mr\u001b[0m\u001b[0;34m)\u001b[0m \u001b[0;32mfor\u001b[0m \u001b[0mr\u001b[0m \u001b[0;32min\u001b[0m \u001b[0mresp\u001b[0m\u001b[0;34m[\u001b[0m\u001b[0;34m'reviews'\u001b[0m\u001b[0;34m]\u001b[0m\u001b[0;34m[\u001b[0m\u001b[0;34m'review'\u001b[0m\u001b[0;34m]\u001b[0m\u001b[0;34m]\u001b[0m\u001b[0;34m\u001b[0m\u001b[0m\n",
      "\u001b[0;31mAttributeError\u001b[0m: GoodreadsClient instance has no attribute 'session'"
     ]
    }
   ],
   "source": [
    "user.reviews(page=1)"
   ]
  },
  {
   "cell_type": "markdown",
   "metadata": {},
   "source": [
    "Instead, I directly accessed the reviews page of a user using the `Requests` library by passing the dev `key` and the `user id`."
   ]
  },
  {
   "cell_type": "code",
   "execution_count": 42,
   "metadata": {
    "collapsed": true
   },
   "outputs": [],
   "source": [
    "resp = requests.get('https://www.goodreads.com/review/list.xml', params=  {'key':Goodreads['key'], 'v': 2, 'id': myuserid})"
   ]
  },
  {
   "cell_type": "markdown",
   "metadata": {},
   "source": [
    "If the connection was successfuly, you will get Response 200:"
   ]
  },
  {
   "cell_type": "code",
   "execution_count": 43,
   "metadata": {
    "collapsed": true
   },
   "outputs": [],
   "source": [
    "data_dict = xmltodict.parse(resp.content)['GoodreadsResponse']"
   ]
  },
  {
   "cell_type": "code",
   "execution_count": 44,
   "metadata": {
    "collapsed": true
   },
   "outputs": [],
   "source": [
    "reviews_books = [r for r in data_dict['reviews']['review']]"
   ]
  },
  {
   "cell_type": "code",
   "execution_count": 45,
   "metadata": {},
   "outputs": [
    {
     "name": "stdout",
     "output_type": "stream",
     "text": [
      "(u'rating', u'3')\n",
      "(u'rating', u'4')\n",
      "(u'rating', u'4')\n",
      "(u'rating', u'5')\n",
      "(u'rating', u'4')\n",
      "(u'rating', u'5')\n",
      "(u'rating', u'0')\n",
      "(u'rating', u'1')\n",
      "(u'rating', u'3')\n",
      "(u'rating', u'5')\n",
      "(u'rating', u'4')\n",
      "(u'rating', u'4')\n",
      "(u'rating', u'5')\n",
      "(u'rating', u'0')\n",
      "(u'rating', u'2')\n",
      "(u'rating', u'0')\n",
      "(u'rating', u'4')\n",
      "(u'rating', u'4')\n",
      "(u'rating', u'4')\n",
      "(u'rating', u'0')\n"
     ]
    }
   ],
   "source": [
    "for r_book in reviews_books:\n",
    "    print list(r_book.items())[2]"
   ]
  },
  {
   "cell_type": "markdown",
   "metadata": {},
   "source": [
    "## Review statistics of books"
   ]
  },
  {
   "cell_type": "markdown",
   "metadata": {},
   "source": [
    "Get review statistics for books given a list of ISBNs."
   ]
  },
  {
   "cell_type": "code",
   "execution_count": 46,
   "metadata": {
    "collapsed": true
   },
   "outputs": [],
   "source": [
    "# gid of sense and sensibilty = 14935\n",
    "gid = 14935\n",
    "book = gc.book(gid)"
   ]
  },
  {
   "cell_type": "code",
   "execution_count": 47,
   "metadata": {},
   "outputs": [
    {
     "data": {
      "text/plain": [
       "u'Sense and Sensibility'"
      ]
     },
     "execution_count": 47,
     "metadata": {},
     "output_type": "execute_result"
    }
   ],
   "source": [
    "book.title"
   ]
  },
  {
   "cell_type": "code",
   "execution_count": 48,
   "metadata": {},
   "outputs": [
    {
     "name": "stdout",
     "output_type": "stream",
     "text": [
      "0141439661\n",
      "9780141439662\n"
     ]
    }
   ],
   "source": [
    "# ISBNs were 10 digits in length up to the end of December 2006, \n",
    "# but since 1 January 2007 they now always consist of 13 digits\n",
    "print book.isbn\n",
    "print book.isbn13"
   ]
  },
  {
   "cell_type": "markdown",
   "metadata": {},
   "source": [
    "The input to `book_review_stats()` has to be in the format of a list - even if it is only one isbn, put it in a list.\n",
    "\n",
    "\n",
    "The `ratings_count` and `reviews_count` keys in the objects represent the total number of ratings cast and reviews made for *that particular edition of the book*. Similarly , `text_reviews_count` represents the total text-only reviews of the particular edition of the book. Whereas, `work_ratings_count`, `work_reviews_count` and `work_text_reviews_count` represent the total ratings, reviews and text-only reviews of *all the editions*."
   ]
  },
  {
   "cell_type": "code",
   "execution_count": 49,
   "metadata": {},
   "outputs": [
    {
     "data": {
      "text/plain": [
       "[{u'average_rating': u'4.06',\n",
       "  u'id': 14935,\n",
       "  u'isbn': u'0141439661',\n",
       "  u'isbn13': u'9780141439662',\n",
       "  u'ratings_count': 772768,\n",
       "  u'reviews_count': 1154342,\n",
       "  u'text_reviews_count': 8900,\n",
       "  u'work_ratings_count': 817907,\n",
       "  u'work_reviews_count': 1256388,\n",
       "  u'work_text_reviews_count': 12490}]"
      ]
     },
     "execution_count": 49,
     "metadata": {},
     "output_type": "execute_result"
    }
   ],
   "source": [
    "gc.book_review_stats([book.isbn])"
   ]
  },
  {
   "cell_type": "markdown",
   "metadata": {},
   "source": [
    "## List events happening in an area"
   ]
  },
  {
   "cell_type": "markdown",
   "metadata": {},
   "source": [
    "Show events near a location specified with the postal code:"
   ]
  },
  {
   "cell_type": "code",
   "execution_count": 50,
   "metadata": {
    "collapsed": true
   },
   "outputs": [],
   "source": [
    "mypostcode = 95616\n",
    "events = gc.list_events(mypostcode)"
   ]
  },
  {
   "cell_type": "code",
   "execution_count": 61,
   "metadata": {},
   "outputs": [
    {
     "name": "stdout",
     "output_type": "stream",
     "text": [
      "   Date    |         City         | Event Title                                       \n",
      "************************************************************\n",
      "2018-05-30 |    San Francisco     | Author Joseph Rodota Shares History of The Waterga\n",
      "2018-06-15 |      Sacramento      | Waking up White Book Club                         \n",
      "2018-06-23 |      Sacramento      | Bookapalooza, a Book and Literary Craft Fair      \n",
      "2018-06-06 |        Quincy        | The Haunted Serpent Book Launch Party             \n",
      "2018-06-01 |       San Jose       | Book Signing - The Broken Lance - Historical Novel\n",
      "2018-06-14 |    San Francisco     | Allison Pearson at Bookshop West Portal           \n",
      "2018-06-22 |    San Francisco     | Michelle Gable at Bookshop West Portal            \n",
      "2018-07-12 |       Berkeley       | Thomas Frank at St. Johns Presbyterian Church     \n",
      "2018-07-13 |     Corte Madera     | Thomas Frank at Book Passage                      \n",
      "2018-05-30 |      Burlingame      | Shobha Rao at the Burlingame Public Library       \n",
      "2018-06-03 |    San Francisco     | Franchesca Ramsey in Conversation with Sarah Coope\n",
      "2018-08-25 |    San Francisco     | SAN FRAN GOLDEN GATE AUTHOR EVENT                 \n",
      "2018-07-08 |      Burlingame      | Jennifer Chambliss Bertman at Books Inc           \n",
      "2018-05-30 |       Oakland        | Mark Oshiro at the Oakland Public Library         \n",
      "2018-10-15 |       Gustine        | Traveling Library Day                             \n",
      "2018-05-31 |      Menlo Park      | Mark Oshiro at Kepler's Books                     \n",
      "2018-10-13 |    San Francisco     | HDSA SF Team Hope Walk                            \n",
      "2018-09-08 |      Sacramento      | HDSA Sacramento Team Hope Walk                    \n",
      "2018-08-25 |    San Francisco     | San Fran Golden Gate Author Event`                \n",
      "2018-05-30 |      Roseville       | Stephanie Garber at Barnes & Noble                \n",
      "2018-06-14 |      Menlo Park      | Stephanie Garber at Kepler's Books                \n",
      "2018-06-14 |    San Francisco     | Jacqueline Carey at Borderlands Books             \n",
      "2018-06-02 |       Oroville       | OroCon Year 3                                     \n",
      "2018-06-05 |        Aptos         | Mind Over Data: The One Thing You Know and Machine\n",
      "2018-05-31 |     Corte Madera     | Michelle Gable at Book Passage                    \n",
      "2018-06-01 |      Healdsburg      | Michelle Gable at Thumbprint Cellars              \n",
      "2018-07-28 |      Pleasanton      | Powerhouse Comic Con                              \n",
      "2018-05-24 |        Online        | Webinar On ADHD: Diagnosis and Subtyping          \n",
      "2018-06-08 |       Fremont        | Health Outcomes of Childhood ADHD - Impact on Life\n",
      "2018-06-11 |       Fremont        | How to Examine Critical Regulatory Requirements re\n",
      "2018-06-05 |       Fremont        | Webinar On How to treat Anxiety Disorders         \n",
      "2018-05-26 |    San Francisco     | SFFYA May 2018 Meeting                            \n",
      "2018-08-07 |    San Francisco     | This Body's Not Big Enough Launch Tour            \n",
      "2018-08-08 |       Petaluma       | This Body's Not Big Enough Launch Tour            \n",
      "2018-07-18 |     Corte Madera     | Linda Castillo at Book Passage                    \n",
      "2018-07-19 |      Santa Rosa      | Linda Castillo at Copperfield’s Books           \n",
      "2018-06-29 |    San Francisco     | Matt Goldman at the Bookshop West Portal          \n"
     ]
    }
   ],
   "source": [
    "row_template = \"{:^10} | {:^20} | {:50}\"\n",
    "print(row_template.format('Date', 'City', 'Event Title'))\n",
    "print(\"*\"*60)\n",
    "\n",
    "for event in events:\n",
    "    date = event.start_at.split('T')[0]\n",
    "    print(row_template.format(date, event.city, event.title[:50].encode('utf-8')))"
   ]
  },
  {
   "cell_type": "markdown",
   "metadata": {},
   "source": [
    "## Retrieve a review given a review ID"
   ]
  },
  {
   "cell_type": "code",
   "execution_count": 71,
   "metadata": {
    "collapsed": true
   },
   "outputs": [],
   "source": [
    "review_id = 200\n",
    "review = gc.review(review_id)"
   ]
  },
  {
   "cell_type": "code",
   "execution_count": 72,
   "metadata": {},
   "outputs": [
    {
     "data": {
      "text/plain": [
       "u'A really well written book that takes you into the far away world of Afghanistan. Highly recommend it.<br /><br />I loved this book, but I must say that one of the things that perhaps made it so emotional was that the main character was such a pansey it made it hard to like him.'"
      ]
     },
     "execution_count": 72,
     "metadata": {},
     "output_type": "execute_result"
    }
   ],
   "source": [
    "review.body"
   ]
  },
  {
   "cell_type": "code",
   "execution_count": 73,
   "metadata": {},
   "outputs": [
    {
     "data": {
      "text/plain": [
       "u'The Kite Runner'"
      ]
     },
     "execution_count": 73,
     "metadata": {},
     "output_type": "execute_result"
    }
   ],
   "source": [
    "review.book['title']"
   ]
  },
  {
   "cell_type": "code",
   "execution_count": 74,
   "metadata": {},
   "outputs": [
    {
     "data": {
      "text/plain": [
       "u'5'"
      ]
     },
     "execution_count": 74,
     "metadata": {},
     "output_type": "execute_result"
    }
   ],
   "source": [
    "review.rating"
   ]
  },
  {
   "cell_type": "code",
   "execution_count": 75,
   "metadata": {},
   "outputs": [
    {
     "data": {
      "text/plain": [
       "u'Sat Apr 01 00:00:00 -0800 2006'"
      ]
     },
     "execution_count": 75,
     "metadata": {},
     "output_type": "execute_result"
    }
   ],
   "source": [
    "review.read_at"
   ]
  },
  {
   "cell_type": "code",
   "execution_count": 76,
   "metadata": {},
   "outputs": [
    {
     "data": {
      "text/plain": [
       "[u'read', u'fiction', u'afghanistan', u'fiction', u'middleeast', u'asia']"
      ]
     },
     "execution_count": 76,
     "metadata": {},
     "output_type": "execute_result"
    }
   ],
   "source": [
    "review.shelves"
   ]
  },
  {
   "cell_type": "code",
   "execution_count": 77,
   "metadata": {},
   "outputs": [
    {
     "data": {
      "text/plain": [
       "u'Consciousness Explained'"
      ]
     },
     "execution_count": 77,
     "metadata": {},
     "output_type": "execute_result"
    }
   ],
   "source": [
    "gc.review(300).book['title']"
   ]
  },
  {
   "cell_type": "code",
   "execution_count": 95,
   "metadata": {},
   "outputs": [
    {
     "name": "stdout",
     "output_type": "stream",
     "text": [
      "[review [2400714242], review [2400713772], review [2400713543], review [2400713456], review [2400713367], review [2400713214], review [2400713181], review [2400713058], review [2400712982], review [2400712957], review [2400712823], review [2400712717], review [2400712667], review [2400711717], review [2400711691], review [2400711630], review [2400711217], review [2400711210], review [2400711124], review [2400711103]]\n"
     ]
    }
   ],
   "source": [
    "recent_reviews = gc.recent_reviews()\n",
    "print recent_reviews"
   ]
  },
  {
   "cell_type": "markdown",
   "metadata": {},
   "source": [
    "The most recent book that has been reviewed:"
   ]
  },
  {
   "cell_type": "code",
   "execution_count": 98,
   "metadata": {},
   "outputs": [
    {
     "data": {
      "text/plain": [
       "u\"Mate's Call\""
      ]
     },
     "execution_count": 98,
     "metadata": {},
     "output_type": "execute_result"
    }
   ],
   "source": [
    "r_recent = recent_reviews[0]\n",
    "no_reviews = r_recent.gid\n",
    "gc.review(no_reviews).book['title']"
   ]
  },
  {
   "cell_type": "code",
   "execution_count": 97,
   "metadata": {},
   "outputs": [
    {
     "data": {
      "text/plain": [
       "u'2400714242'"
      ]
     },
     "execution_count": 97,
     "metadata": {},
     "output_type": "execute_result"
    }
   ],
   "source": [
    "no_reviews"
   ]
  },
  {
   "cell_type": "code",
   "execution_count": 108,
   "metadata": {},
   "outputs": [
    {
     "data": {
      "text/plain": [
       "u\"So apparently nothing happens in this one and it's just fluff? If so, I'll save this for another time.\""
      ]
     },
     "execution_count": 108,
     "metadata": {},
     "output_type": "execute_result"
    }
   ],
   "source": [
    "r_recent.body"
   ]
  },
  {
   "cell_type": "markdown",
   "metadata": {},
   "source": [
    "## Retrieve ratings and dates for all books"
   ]
  },
  {
   "cell_type": "markdown",
   "metadata": {},
   "source": [
    "To measure how much the popularity of a book has been changed over time, I would like to plot the review ratings for a book versus time.\n",
    "\n",
    "I go through all reviews and store the ratings and the year a rating has been recorded in dictionary `d_rev`."
   ]
  },
  {
   "cell_type": "code",
   "execution_count": null,
   "metadata": {},
   "outputs": [],
   "source": [
    "d_rev = {}\n",
    "counter = 0\n",
    "for i in range(no_reviews):\n",
    "    try:\n",
    "        r = gc.review(i)\n",
    "        book_id = int(r.book['id']['#text'])\n",
    "        if r.read_at:\n",
    "            if book_id not in d_rev:\n",
    "                d_rev[book_id] = []\n",
    "            d_rev[book_id].append((int(r.read_at.split()[-1]), int(r.rating)))\n",
    "        #if re.match(book_title, review.book['title'], re.IGNORECASE):\n",
    "    except:\n",
    "        counter += 1\n",
    "print 'No of books without reviews:', counter\n",
    "print 'No of books with reviews:', len(d_rev)"
   ]
  },
  {
   "cell_type": "markdown",
   "metadata": {},
   "source": [
    "Store the dictionary of ratings for later reference:"
   ]
  },
  {
   "cell_type": "code",
   "execution_count": 93,
   "metadata": {},
   "outputs": [],
   "source": [
    "rev_fn = 'reviews_allbooks.pkl'\n",
    "\n",
    "if not os.path.exists(rev_fn):    \n",
    "    # save the review dictionary\n",
    "    with open(rev_fn, 'wb') as f:\n",
    "        pickle.dump(d_rev, f)\n",
    "else:\n",
    "    d_rev_loaded = pickle.load(open(rev_fn, 'rb'));"
   ]
  }
 ],
 "metadata": {
  "kernelspec": {
   "display_name": "Python 2",
   "language": "python",
   "name": "python2"
  },
  "language_info": {
   "codemirror_mode": {
    "name": "ipython",
    "version": 2
   },
   "file_extension": ".py",
   "mimetype": "text/x-python",
   "name": "python",
   "nbconvert_exporter": "python",
   "pygments_lexer": "ipython2",
   "version": "2.7.13"
  }
 },
 "nbformat": 4,
 "nbformat_minor": 2
}
